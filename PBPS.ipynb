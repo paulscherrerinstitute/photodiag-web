{
 "cells": [
  {
   "cell_type": "markdown",
   "metadata": {},
   "source": [
    "## Aramis position jitter\n",
    "### Display of machine jitter measured along the photonics beamline as a function of pulse ID parity\n",
    "Refresh data button takes n pulses of live bs data where n is defined in number of shots box"
   ]
  },
  {
   "cell_type": "code",
   "execution_count": 1,
   "metadata": {},
   "outputs": [],
   "source": [
    "%matplotlib widget\n",
    "import matplotlib.pyplot as plt\n",
    "import pandas as pd\n",
    "import ipywidgets as widgets\n",
    "import numpy as np\n",
    "from bsread import source\n",
    "import seaborn as sns\n",
    "import pandas as pd\n",
    "from time import sleep\n",
    "from IPython.display import display\n",
    "from IPython.display import clear_output\n",
    "# import epics as ep\n",
    "from scipy.optimize import curve_fit\n",
    "import json"
   ]
  },
  {
   "cell_type": "code",
   "execution_count": 2,
   "metadata": {},
   "outputs": [],
   "source": [
    "device_name = 'PBPS122'"
   ]
  },
  {
   "cell_type": "code",
   "execution_count": 3,
   "metadata": {},
   "outputs": [],
   "source": [
    "# channels = ['SAROP11-PBPS117:INTENSITY','SAROP11-PBPS117:XPOS','SAROP11-PBPS117:YPOS']\n",
    "# channels = ['SLAAR21-LTIM01-EVR0:CALCI','SLAAR21-LTIM01-EVR0:CALCX','SLAAR21-LTIM01-EVR0:CALCY']\n",
    "\n",
    "if device_name == 'PBPS053':\n",
    "    channels_proc = ['SARFE10-PBPS053:INTENSITY','SARFE10-PBPS053:XPOS','SARFE10-PBPS053:YPOS']\n",
    "if device_name == 'PBPS122':\n",
    "    channels_proc = ['SAROP11-PBPS122:INTENSITY','SAROP11-PBPS122:XPOS','SAROP11-PBPS122:YPOS']   "
   ]
  },
  {
   "cell_type": "code",
   "execution_count": 6,
   "metadata": {},
   "outputs": [],
   "source": [
    "def get_bs_data(channels, numshots = 100):\n",
    "    tmp_data = np.zeros([numshots, len(channels)+1])\n",
    "    with source(channels=channels) as stream:\n",
    "        for i in range(0,numshots):\n",
    "            message = stream.receive()\n",
    "            for ch_num, ch in enumerate(channels):\n",
    "                tmp_data[i,ch_num] = message.data.data[ch].value\n",
    "                tmp_data[i,len(channels)] = message.data.pulse_id\n",
    "                \n",
    "    data_out = pd.DataFrame(columns=channels)\n",
    "    for ch_num, ch in enumerate(channels):\n",
    "        data_out[ch] = tmp_data[:,ch_num]\n",
    "    data_out['PulseID'] = tmp_data[:,len(channels)]\n",
    "    # add parity\n",
    "    vals = []\n",
    "    for ID in data_out['PulseID']:\n",
    "        if ID %2 ==0:\n",
    "            vals.append('Even')\n",
    "        else:\n",
    "            vals.append('Odd')\n",
    "    data_out['Parity'] = vals\n",
    "    return data_out\n",
    "\n",
    "def update_plot(plot, channel_x, channel_y, data):\n",
    "    plot.ax_joint.clear()\n",
    "    plot.ax_marg_x.clear()\n",
    "    plot.ax_marg_y.clear()\n",
    "    \n",
    "    # centre plot\n",
    "    sns.kdeplot(\n",
    "    data=data,\n",
    "    x=channel_x, y=channel_y,\n",
    "    hue=\"Parity\",\n",
    "    ax =plot.ax_joint)\n",
    "    \n",
    "    # x margin\n",
    "    sns.kdeplot(\n",
    "    data=data,\n",
    "    x=channel_x,\n",
    "    hue=\"Parity\",\n",
    "    legend = False,\n",
    "    ax =plot.ax_marg_x)\n",
    "    \n",
    "    # y margin\n",
    "    sns.kdeplot(\n",
    "    data=data,\n",
    "    y=channel_y,\n",
    "    hue=\"Parity\",\n",
    "    legend = False,\n",
    "    ax =plot.ax_marg_y)\n",
    "\n",
    "def on_button_clicked(b):\n",
    "    while continuous.value == True:\n",
    "        numshots = int(NumShots.value)\n",
    "        data = get_bs_data(channels_proc, numshots=numshots)\n",
    "\n",
    "        # Position\n",
    "        update_plot(plot0,channels_proc[1], channels_proc[2], data)\n",
    "        # Intensity x\n",
    "        update_plot(plot1,channels_proc[0], channels_proc[1], data)\n",
    "        # Intensity y\n",
    "        update_plot(plot2,channels_proc[0], channels_proc[2], data)\n",
    "        sleep(10)\n",
    "    else:\n",
    "        numshots = int(NumShots.value)\n",
    "        data = get_bs_data(channels_proc, numshots=numshots)\n",
    "\n",
    "        # Position\n",
    "        update_plot(plot0,channels_proc[1], channels_proc[2], data)\n",
    "        # Intensity x\n",
    "        update_plot(plot1,channels_proc[0], channels_proc[1], data)\n",
    "        # Intensity y\n",
    "        update_plot(plot2,channels_proc[0], channels_proc[2], data)"
   ]
  },
  {
   "cell_type": "code",
   "execution_count": 7,
   "metadata": {},
   "outputs": [],
   "source": [
    "## Make plot content"
   ]
  },
  {
   "cell_type": "code",
   "execution_count": null,
   "metadata": {
    "scrolled": false
   },
   "outputs": [],
   "source": [
    "# control widget setup\n",
    "NumShots = widgets.Text(value = '100', description='Number of shots:')\n",
    "\n",
    "button = widgets.Button(description=\"Refresh data\")\n",
    "button.on_click(on_button_clicked)\n",
    "\n",
    "continuous = widgets.Checkbox(value=False, description='Update loop')\n",
    "# plot setup\n",
    "out0 = widgets.Output()\n",
    "out1 = widgets.Output()\n",
    "out2 = widgets.Output()\n",
    "\n",
    "tab = widgets.Tab(children = [out0, out1, out2])\n",
    "tab.set_title(0, device_name +' Position')\n",
    "tab.set_title(1, device_name +' Intensity/ horizontal')\n",
    "tab.set_title(2, device_name +' Intensity/ vertical')\n",
    "\n",
    "sns.set_theme(style=\"darkgrid\")\n",
    "\n",
    "with out0:\n",
    "    plot0 = sns.JointGrid()\n",
    "    plt.show(plot0)\n",
    "\n",
    "with out1:\n",
    "    plot1 = sns.JointGrid()\n",
    "    plt.show(plot1)\n",
    "    \n",
    "with out2:\n",
    "    plot2 = sns.JointGrid()\n",
    "    plt.show(plot2)\n",
    "    \n",
    "display(button,continuous,NumShots,tab)"
   ]
  },
  {
   "cell_type": "code",
   "execution_count": null,
   "metadata": {},
   "outputs": [],
   "source": []
  }
 ],
 "metadata": {
  "kernelspec": {
   "display_name": "Python 3 (ipykernel)",
   "language": "python",
   "name": "python3"
  },
  "language_info": {
   "codemirror_mode": {
    "name": "ipython",
    "version": 3
   },
   "file_extension": ".py",
   "mimetype": "text/x-python",
   "name": "python",
   "nbconvert_exporter": "python",
   "pygments_lexer": "ipython3",
   "version": "3.8.12"
  }
 },
 "nbformat": 4,
 "nbformat_minor": 2
}
